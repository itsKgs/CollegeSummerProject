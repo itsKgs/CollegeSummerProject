{
 "cells": [
  {
   "cell_type": "code",
   "execution_count": null,
   "id": "2b0c8ad8-2c04-4cc4-b39f-c16af53c19d4",
   "metadata": {},
   "outputs": [],
   "source": [
    "import pyvista as pv\n",
    "import pandas as pd"
   ]
  },
  {
   "cell_type": "code",
   "execution_count": 6,
   "id": "22097da7-b7a6-4f55-b5f8-98c530b81ba5",
   "metadata": {},
   "outputs": [],
   "source": [
    "press_path = r\"C:\\Users\\kunwa\\Documents\\Programming\\Julia\\FEniCS\\Navier_Stokes_Channel\\pressure.pvd\"\n",
    "velocity_path = r\"C:\\Users\\kunwa\\Documents\\Programming\\Julia\\FEniCS\\Navier_Stokes_Channel\\velocity.pvd\""
   ]
  },
  {
   "cell_type": "code",
   "execution_count": 12,
   "id": "81ee0827-a494-4af5-9c48-b0c82cac0a88",
   "metadata": {},
   "outputs": [],
   "source": [
    "# Read time-series datasets\n",
    "vel_reader = pv.get_reader(velocity_path)\n",
    "pres_reader = pv.get_reader(press_path)"
   ]
  },
  {
   "cell_type": "code",
   "execution_count": 14,
   "id": "c6572191-5f84-445e-a26b-0f5255631cdb",
   "metadata": {},
   "outputs": [],
   "source": [
    "# Get time steps\n",
    "vel_times = vel_reader.time_values\n",
    "pres_times = pres_reader.time_values"
   ]
  },
  {
   "cell_type": "code",
   "execution_count": 15,
   "id": "8f63a568-4f22-4e2e-8a02-4acb88410ba7",
   "metadata": {},
   "outputs": [],
   "source": [
    "# Ensure time steps match\n",
    "assert vel_times == pres_times, \"❌ Time steps in velocity and pressure do not match!\""
   ]
  },
  {
   "cell_type": "code",
   "execution_count": 16,
   "id": "e68c2600-6bdf-4e72-85c6-a21fc46733e4",
   "metadata": {},
   "outputs": [
    {
     "name": "stdout",
     "output_type": "stream",
     "text": [
      "✅ Found 50 time steps\n"
     ]
    }
   ],
   "source": [
    "print(f\"✅ Found {len(vel_times)} time steps\")"
   ]
  },
  {
   "cell_type": "code",
   "execution_count": null,
   "id": "f4a96336-0a0b-45f1-b519-408c27fa5ac2",
   "metadata": {},
   "outputs": [],
   "source": [
    "print(\"📌 Velocity fields:\", vel_block.point_data.keys())"
   ]
  },
  {
   "cell_type": "code",
   "execution_count": 22,
   "id": "69373f7e-cc17-4545-a78a-98773d4b6aed",
   "metadata": {},
   "outputs": [
    {
     "name": "stdout",
     "output_type": "stream",
     "text": [
      "📌 Velocity fields: ['f_16']\n",
      "📌 Pressure fields: ['f_22']\n"
     ]
    }
   ],
   "source": [
    "for i, t in enumerate(vel_times):\n",
    "    # Read meshes\n",
    "    vel_reader.set_active_time_value(t)\n",
    "    pres_reader.set_active_time_value(t)\n",
    "\n",
    "    vel_block = vel_mesh[0]\n",
    "    pres_block = pres_mesh[0]\n",
    "\n",
    "    coords = vel_block.points\n",
    "\n",
    "    if i == 0:\n",
    "        print(\"📌 Velocity fields:\", vel_block.point_data.keys())\n",
    "        print(\"📌 Pressure fields:\", pres_block.point_data.keys())\n",
    "\n",
    "    # Use the correct keys\n",
    "    u_field = vel_block.point_data[\"f_16\"]  # velocity\n",
    "    p_field = pres_block.point_data[\"f_22\"]  # pressure\n",
    "\n",
    "    for j in range(len(coords)):\n",
    "        x, y, _ = coords[j]\n",
    "        u, v = u_field[j][:2]  # ✅ Slices only u, v\n",
    "        p = p_field[j]\n",
    "        all_data.append([x, y, t, u, v, p])\n"
   ]
  },
  {
   "cell_type": "code",
   "execution_count": 23,
   "id": "9411614b-77d3-4b17-8258-18d70a6c122e",
   "metadata": {},
   "outputs": [],
   "source": [
    "df = pd.DataFrame(all_data, columns=[\"x\", \"y\", \"t\", \"u\", \"v\", \"p\"])"
   ]
  },
  {
   "cell_type": "code",
   "execution_count": 24,
   "id": "9e6fb06f-3997-462f-b714-9b94c1d9fdab",
   "metadata": {},
   "outputs": [
    {
     "data": {
      "text/html": [
       "<div>\n",
       "<style scoped>\n",
       "    .dataframe tbody tr th:only-of-type {\n",
       "        vertical-align: middle;\n",
       "    }\n",
       "\n",
       "    .dataframe tbody tr th {\n",
       "        vertical-align: top;\n",
       "    }\n",
       "\n",
       "    .dataframe thead th {\n",
       "        text-align: right;\n",
       "    }\n",
       "</style>\n",
       "<table border=\"1\" class=\"dataframe\">\n",
       "  <thead>\n",
       "    <tr style=\"text-align: right;\">\n",
       "      <th></th>\n",
       "      <th>x</th>\n",
       "      <th>y</th>\n",
       "      <th>t</th>\n",
       "      <th>u</th>\n",
       "      <th>v</th>\n",
       "      <th>p</th>\n",
       "    </tr>\n",
       "  </thead>\n",
       "  <tbody>\n",
       "    <tr>\n",
       "      <th>0</th>\n",
       "      <td>0.0000</td>\n",
       "      <td>0.0</td>\n",
       "      <td>0.02</td>\n",
       "      <td>0.16</td>\n",
       "      <td>6.427647e-17</td>\n",
       "      <td>8.0</td>\n",
       "    </tr>\n",
       "    <tr>\n",
       "      <th>1</th>\n",
       "      <td>0.0625</td>\n",
       "      <td>0.0</td>\n",
       "      <td>0.02</td>\n",
       "      <td>0.16</td>\n",
       "      <td>-5.419228e-17</td>\n",
       "      <td>7.5</td>\n",
       "    </tr>\n",
       "    <tr>\n",
       "      <th>2</th>\n",
       "      <td>0.1250</td>\n",
       "      <td>0.0</td>\n",
       "      <td>0.02</td>\n",
       "      <td>0.16</td>\n",
       "      <td>-4.342110e-17</td>\n",
       "      <td>7.0</td>\n",
       "    </tr>\n",
       "    <tr>\n",
       "      <th>3</th>\n",
       "      <td>0.1875</td>\n",
       "      <td>0.0</td>\n",
       "      <td>0.02</td>\n",
       "      <td>0.16</td>\n",
       "      <td>-5.869386e-17</td>\n",
       "      <td>6.5</td>\n",
       "    </tr>\n",
       "    <tr>\n",
       "      <th>4</th>\n",
       "      <td>0.2500</td>\n",
       "      <td>0.0</td>\n",
       "      <td>0.02</td>\n",
       "      <td>0.16</td>\n",
       "      <td>-6.398646e-17</td>\n",
       "      <td>6.0</td>\n",
       "    </tr>\n",
       "  </tbody>\n",
       "</table>\n",
       "</div>"
      ],
      "text/plain": [
       "        x    y     t     u             v    p\n",
       "0  0.0000  0.0  0.02  0.16  6.427647e-17  8.0\n",
       "1  0.0625  0.0  0.02  0.16 -5.419228e-17  7.5\n",
       "2  0.1250  0.0  0.02  0.16 -4.342110e-17  7.0\n",
       "3  0.1875  0.0  0.02  0.16 -5.869386e-17  6.5\n",
       "4  0.2500  0.0  0.02  0.16 -6.398646e-17  6.0"
      ]
     },
     "execution_count": 24,
     "metadata": {},
     "output_type": "execute_result"
    }
   ],
   "source": [
    "df.head()"
   ]
  },
  {
   "cell_type": "code",
   "execution_count": 25,
   "id": "8fcddf07-cb60-4dec-a5e9-74bd3eac62d7",
   "metadata": {},
   "outputs": [
    {
     "data": {
      "text/plain": [
       "(14450, 6)"
      ]
     },
     "execution_count": 25,
     "metadata": {},
     "output_type": "execute_result"
    }
   ],
   "source": [
    "df.shape"
   ]
  },
  {
   "cell_type": "code",
   "execution_count": 26,
   "id": "15fd77dc-e435-47d6-9096-2732d07ee126",
   "metadata": {},
   "outputs": [
    {
     "data": {
      "text/html": [
       "<div>\n",
       "<style scoped>\n",
       "    .dataframe tbody tr th:only-of-type {\n",
       "        vertical-align: middle;\n",
       "    }\n",
       "\n",
       "    .dataframe tbody tr th {\n",
       "        vertical-align: top;\n",
       "    }\n",
       "\n",
       "    .dataframe thead th {\n",
       "        text-align: right;\n",
       "    }\n",
       "</style>\n",
       "<table border=\"1\" class=\"dataframe\">\n",
       "  <thead>\n",
       "    <tr style=\"text-align: right;\">\n",
       "      <th></th>\n",
       "      <th>x</th>\n",
       "      <th>y</th>\n",
       "      <th>t</th>\n",
       "      <th>u</th>\n",
       "      <th>v</th>\n",
       "      <th>p</th>\n",
       "    </tr>\n",
       "  </thead>\n",
       "  <tbody>\n",
       "    <tr>\n",
       "      <th>count</th>\n",
       "      <td>14450.000000</td>\n",
       "      <td>14450.000000</td>\n",
       "      <td>14450.000000</td>\n",
       "      <td>1.445000e+04</td>\n",
       "      <td>1.445000e+04</td>\n",
       "      <td>14450.000000</td>\n",
       "    </tr>\n",
       "    <tr>\n",
       "      <th>mean</th>\n",
       "      <td>0.500000</td>\n",
       "      <td>0.500000</td>\n",
       "      <td>0.510000</td>\n",
       "      <td>1.600000e-01</td>\n",
       "      <td>-8.000446e-18</td>\n",
       "      <td>4.000000</td>\n",
       "    </tr>\n",
       "    <tr>\n",
       "      <th>std</th>\n",
       "      <td>0.306197</td>\n",
       "      <td>0.306197</td>\n",
       "      <td>0.288627</td>\n",
       "      <td>6.613010e-16</td>\n",
       "      <td>1.161252e-16</td>\n",
       "      <td>2.449575</td>\n",
       "    </tr>\n",
       "    <tr>\n",
       "      <th>min</th>\n",
       "      <td>0.000000</td>\n",
       "      <td>0.000000</td>\n",
       "      <td>0.020000</td>\n",
       "      <td>1.600000e-01</td>\n",
       "      <td>-5.070328e-16</td>\n",
       "      <td>0.000000</td>\n",
       "    </tr>\n",
       "    <tr>\n",
       "      <th>25%</th>\n",
       "      <td>0.250000</td>\n",
       "      <td>0.250000</td>\n",
       "      <td>0.260000</td>\n",
       "      <td>1.600000e-01</td>\n",
       "      <td>-6.473029e-17</td>\n",
       "      <td>2.000000</td>\n",
       "    </tr>\n",
       "    <tr>\n",
       "      <th>50%</th>\n",
       "      <td>0.500000</td>\n",
       "      <td>0.500000</td>\n",
       "      <td>0.510000</td>\n",
       "      <td>1.600000e-01</td>\n",
       "      <td>2.082574e-18</td>\n",
       "      <td>4.000000</td>\n",
       "    </tr>\n",
       "    <tr>\n",
       "      <th>75%</th>\n",
       "      <td>0.750000</td>\n",
       "      <td>0.750000</td>\n",
       "      <td>0.760000</td>\n",
       "      <td>1.600000e-01</td>\n",
       "      <td>5.278048e-17</td>\n",
       "      <td>6.000000</td>\n",
       "    </tr>\n",
       "    <tr>\n",
       "      <th>max</th>\n",
       "      <td>1.000000</td>\n",
       "      <td>1.000000</td>\n",
       "      <td>1.000000</td>\n",
       "      <td>1.600000e-01</td>\n",
       "      <td>3.432783e-16</td>\n",
       "      <td>8.000000</td>\n",
       "    </tr>\n",
       "  </tbody>\n",
       "</table>\n",
       "</div>"
      ],
      "text/plain": [
       "                  x             y             t             u             v  \\\n",
       "count  14450.000000  14450.000000  14450.000000  1.445000e+04  1.445000e+04   \n",
       "mean       0.500000      0.500000      0.510000  1.600000e-01 -8.000446e-18   \n",
       "std        0.306197      0.306197      0.288627  6.613010e-16  1.161252e-16   \n",
       "min        0.000000      0.000000      0.020000  1.600000e-01 -5.070328e-16   \n",
       "25%        0.250000      0.250000      0.260000  1.600000e-01 -6.473029e-17   \n",
       "50%        0.500000      0.500000      0.510000  1.600000e-01  2.082574e-18   \n",
       "75%        0.750000      0.750000      0.760000  1.600000e-01  5.278048e-17   \n",
       "max        1.000000      1.000000      1.000000  1.600000e-01  3.432783e-16   \n",
       "\n",
       "                  p  \n",
       "count  14450.000000  \n",
       "mean       4.000000  \n",
       "std        2.449575  \n",
       "min        0.000000  \n",
       "25%        2.000000  \n",
       "50%        4.000000  \n",
       "75%        6.000000  \n",
       "max        8.000000  "
      ]
     },
     "execution_count": 26,
     "metadata": {},
     "output_type": "execute_result"
    }
   ],
   "source": [
    "df.describe()"
   ]
  },
  {
   "cell_type": "code",
   "execution_count": 33,
   "id": "31d8e57f-d1de-4bb9-a412-3b76ceec3aaa",
   "metadata": {},
   "outputs": [
    {
     "name": "stdout",
     "output_type": "stream",
     "text": [
      "x    0\n",
      "y    0\n",
      "t    0\n",
      "u    0\n",
      "v    0\n",
      "p    0\n",
      "dtype: int64\n"
     ]
    }
   ],
   "source": [
    "print(df.isna().sum()) "
   ]
  },
  {
   "cell_type": "code",
   "execution_count": 38,
   "id": "3ea7b41a-0929-4d8f-a0dd-062317dcc980",
   "metadata": {},
   "outputs": [
    {
     "data": {
      "text/plain": [
       "array([0.16, 0.16, 0.16, 0.16, 0.16, 0.16, 0.16, 0.16, 0.16, 0.16, 0.16,\n",
       "       0.16, 0.16, 0.16, 0.16, 0.16, 0.16, 0.16, 0.16, 0.16, 0.16, 0.16,\n",
       "       0.16, 0.16, 0.16, 0.16, 0.16, 0.16, 0.16, 0.16, 0.16, 0.16, 0.16,\n",
       "       0.16, 0.16, 0.16, 0.16, 0.16, 0.16, 0.16, 0.16, 0.16, 0.16, 0.16,\n",
       "       0.16, 0.16, 0.16, 0.16, 0.16, 0.16, 0.16, 0.16, 0.16, 0.16, 0.16,\n",
       "       0.16, 0.16, 0.16, 0.16, 0.16, 0.16, 0.16, 0.16, 0.16, 0.16, 0.16,\n",
       "       0.16, 0.16, 0.16, 0.16, 0.16, 0.16, 0.16, 0.16, 0.16, 0.16, 0.16,\n",
       "       0.16])"
      ]
     },
     "execution_count": 38,
     "metadata": {},
     "output_type": "execute_result"
    }
   ],
   "source": [
    "df['u'].unique()"
   ]
  },
  {
   "cell_type": "code",
   "execution_count": 43,
   "id": "ad4b2cd2-cee8-4199-b41d-3499545abecd",
   "metadata": {},
   "outputs": [
    {
     "data": {
      "text/plain": [
       "array([ 6.42764736e-17, -5.41922813e-17, -4.34210986e-17, -5.86938629e-17,\n",
       "       -6.39864612e-17,  3.06438977e-17,  2.87571074e-17, -1.40477152e-17,\n",
       "       -3.12617382e-17,  8.72103455e-18,  3.67693706e-18,  1.09408766e-17,\n",
       "       -1.13054189e-17, -1.09240703e-17, -1.09802418e-17, -1.85274486e-18,\n",
       "       -5.84240377e-19,  3.51889534e-17,  5.80427239e-17, -6.03287606e-18,\n",
       "        4.22945591e-18, -9.63183365e-17, -1.35638635e-16, -1.21936149e-16,\n",
       "       -8.26113590e-17, -8.93368222e-17, -8.23480742e-17, -4.22232960e-17,\n",
       "       -8.16555488e-18,  1.53696156e-19, -2.03664362e-17, -1.91742321e-17,\n",
       "       -3.34040622e-18, -3.66458607e-19,  8.34489371e-18, -4.63926970e-18,\n",
       "       -2.71660670e-17, -7.10236575e-17, -1.19088619e-16, -2.15596389e-16,\n",
       "       -3.02622376e-16, -2.13435368e-16, -1.50620651e-16, -1.15537272e-16,\n",
       "       -5.43093962e-17,  2.54804708e-17,  5.16379204e-17,  3.34853345e-17,\n",
       "        4.06375198e-18,  4.72774167e-18,  4.42628710e-18,  1.17965680e-16,\n",
       "       -8.38616100e-17, -1.30243325e-16, -1.46623368e-16, -1.39856043e-16,\n",
       "       -6.94725406e-17, -1.77730973e-16, -2.13740193e-16, -7.42808384e-17,\n",
       "        4.62894285e-17,  1.06217136e-16,  1.26684672e-16,  1.31844929e-16,\n",
       "        9.48417810e-17,  5.27804849e-17,  1.85772030e-17,  7.83107857e-18,\n",
       "        6.94577279e-17, -3.85842853e-18, -6.21048275e-17, -1.23812961e-16,\n",
       "       -9.31043680e-17, -1.17704440e-17,  4.05073278e-18, -4.42620176e-18,\n",
       "       -1.40940497e-17,  1.23655889e-16,  1.86458281e-16,  1.65669026e-16,\n",
       "        1.33697870e-16,  9.07614728e-17,  6.55012718e-17,  2.73998666e-17,\n",
       "        8.52690648e-18, -2.19668642e-16, -1.35748711e-16, -1.32883359e-16,\n",
       "       -2.31173759e-16, -9.54688590e-17, -1.88219469e-17,  4.93991536e-17,\n",
       "        6.50444715e-17,  2.79234970e-17,  3.80227532e-18,  3.93901146e-17,\n",
       "        5.82453253e-17,  8.18509343e-17,  7.92864900e-17,  6.01499539e-17,\n",
       "        2.96444952e-17,  1.31497579e-17, -2.59853478e-16, -1.25953496e-16,\n",
       "       -2.30836406e-16, -2.14555519e-16, -1.44725434e-16, -9.23650457e-17,\n",
       "       -4.89263085e-17, -5.72631266e-17, -5.68044762e-17, -6.97086559e-17,\n",
       "       -7.77548877e-17, -2.94039527e-17,  4.88664652e-18,  4.78713434e-17,\n",
       "        5.56458144e-17,  3.23727993e-17,  2.10079413e-17, -1.90909238e-16,\n",
       "        7.01082626e-18, -9.27036313e-17, -1.33593417e-16, -1.45548632e-16,\n",
       "       -1.64213448e-16, -1.27280545e-16, -1.74935268e-16, -1.97385176e-16,\n",
       "       -1.23863149e-16, -7.74642316e-17, -4.34530162e-17, -6.87868106e-17,\n",
       "       -3.99948601e-17, -9.49443417e-18,  8.35798320e-18,  1.10182213e-17,\n",
       "       -2.73047587e-16, -2.66487177e-16, -1.47856011e-16, -1.12100628e-16,\n",
       "       -1.59886190e-16, -5.63509585e-17,  4.49716085e-17, -1.62436086e-17,\n",
       "       -6.47302926e-17, -9.01797443e-17, -4.02010515e-17, -2.46321426e-17,\n",
       "       -5.17691220e-17, -6.18083055e-17, -5.59859257e-17, -2.52768418e-17,\n",
       "       -9.96371757e-18, -2.71662681e-16, -4.18794236e-16, -5.07032824e-16,\n",
       "       -2.70086427e-16, -1.59251383e-16, -4.68642989e-17,  1.45259449e-16,\n",
       "        2.50775639e-16,  2.07731374e-16,  1.23072537e-16,  8.36124967e-17,\n",
       "        7.88777393e-17,  4.78136452e-17,  1.41056462e-17, -1.85083407e-17,\n",
       "       -1.62219023e-17, -9.89469874e-18,  1.02649512e-17, -9.29504492e-17,\n",
       "       -3.05992623e-16, -3.26016409e-16, -1.24242162e-16, -8.33321497e-17,\n",
       "        8.81448495e-17,  2.51077122e-16,  3.43278275e-16,  2.42005764e-16,\n",
       "        1.59462540e-16,  1.29132045e-16,  8.11827632e-17,  5.43300312e-17,\n",
       "        1.16304041e-17,  7.15343699e-19,  3.79060084e-19,  2.46890697e-16,\n",
       "        2.15097629e-16,  2.14314483e-16,  3.20775072e-17, -2.86582976e-17,\n",
       "        3.83886691e-17,  2.67606948e-17,  9.22547733e-17,  1.90546989e-16,\n",
       "        1.87846825e-16,  1.11561061e-16,  1.13550508e-16,  1.30407223e-16,\n",
       "        7.65560119e-17,  2.31947809e-17,  8.40333609e-18,  1.85488636e-18,\n",
       "       -2.22381852e-17,  1.07637781e-16,  2.06931939e-16,  2.04349163e-16,\n",
       "        9.30691280e-17,  9.40096495e-17,  6.04827106e-17,  1.43853476e-17,\n",
       "       -5.49348418e-18,  7.62845469e-17,  1.08301106e-16,  6.53069939e-17,\n",
       "        8.32062412e-17,  6.19856771e-17,  9.63554785e-18,  2.18849024e-18,\n",
       "       -5.34351806e-18, -1.92732200e-16, -1.95002963e-16, -5.37892290e-17,\n",
       "        3.91325166e-17,  1.29019102e-16,  1.06292964e-16,  7.79138138e-17,\n",
       "        1.17165311e-16,  6.73743314e-17, -1.33591917e-17,  2.06865914e-17,\n",
       "       -2.05127556e-17, -5.07500050e-17, -6.87339930e-18,  1.86127823e-17,\n",
       "        2.08257431e-18, -3.18011863e-18,  1.26133340e-16,  1.29595022e-17,\n",
       "       -7.35455165e-17,  1.21030965e-17,  1.14889106e-16,  1.28621156e-16,\n",
       "        8.59079929e-17,  1.21814461e-16,  1.25110238e-16,  4.66974411e-17,\n",
       "       -9.61994228e-18, -9.91623212e-18, -1.00050930e-17, -6.83853038e-18,\n",
       "        3.12716856e-17,  1.40985407e-17,  1.26219138e-17,  2.31359790e-16,\n",
       "        2.53972924e-16,  1.55661996e-16,  2.86799292e-17,  3.18812180e-17,\n",
       "        1.04283243e-18,  1.04113515e-17, -4.85979578e-17, -3.12248454e-17,\n",
       "        9.06588177e-18,  3.50662260e-17,  8.17107712e-18,  1.86172766e-17,\n",
       "        2.03539715e-17,  1.77638736e-17,  1.55097125e-17,  2.06185050e-17,\n",
       "        1.97688425e-16,  1.23547387e-16,  2.46134006e-16,  3.78564239e-17,\n",
       "       -8.71436475e-17, -1.35633925e-16, -1.22996802e-16, -1.40625615e-16,\n",
       "       -1.69676756e-16, -9.47843306e-17, -3.58217462e-17, -1.54518043e-17,\n",
       "       -5.42399539e-18,  1.48936207e-17,  1.16214590e-17,  1.79428122e-17,\n",
       "        1.94107699e-17])"
      ]
     },
     "execution_count": 43,
     "metadata": {},
     "output_type": "execute_result"
    }
   ],
   "source": [
    "df['v'].unique()"
   ]
  },
  {
   "cell_type": "code",
   "execution_count": 44,
   "id": "0a443e20-c1bf-45a5-950d-5b9b4988a04e",
   "metadata": {},
   "outputs": [
    {
     "data": {
      "text/plain": [
       "array([8. , 7.5, 7. , 6.5, 6. , 5.5, 5. , 4.5, 4. , 3.5, 3. , 2.5, 2. ,\n",
       "       1.5, 1. , 0.5, 0. , 7. , 5.5, 4. , 2. , 1.5, 7.5, 6.5, 5.5, 5. ,\n",
       "       4. , 3.5, 3. , 1.5, 1. , 6.5, 6. , 5. , 4.5, 4. , 3.5, 2.5, 2. ,\n",
       "       1. , 0.5, 6.5, 4.5, 3.5, 3. , 2.5, 2. , 1.5, 1. , 7.5, 7. , 3.5,\n",
       "       3. , 2.5, 2. , 1.5, 1. , 0.5, 7. , 6.5, 6. , 2. , 1.5, 1. , 0.5,\n",
       "       7.5, 7. , 6. , 4. , 3.5, 1. , 0.5, 6.5, 6. , 5.5, 4.5, 4. , 2.5,\n",
       "       7.5, 6. , 5.5, 4. , 3. , 1. , 7.5, 7. , 6.5, 4.5, 4. , 2. , 7. ,\n",
       "       6. , 4. , 2. , 7.5, 7. , 2.5, 2. , 1.5, 7. , 3.5, 3. , 2. , 7.5,\n",
       "       4.5, 3. , 6.5, 5. , 3.5, 2.5, 2. , 0.5, 1. ])"
      ]
     },
     "execution_count": 44,
     "metadata": {},
     "output_type": "execute_result"
    }
   ],
   "source": [
    "df['p'].unique()"
   ]
  },
  {
   "cell_type": "code",
   "execution_count": 39,
   "id": "619a9ef2-d98e-4b1d-8bcf-b0daeaa79446",
   "metadata": {},
   "outputs": [
    {
     "name": "stdout",
     "output_type": "stream",
     "text": [
      "0.16000000000000061 0.16000000000000342\n"
     ]
    }
   ],
   "source": [
    "print(df[\"u\"].min(), df[\"u\"].max())"
   ]
  },
  {
   "cell_type": "code",
   "execution_count": 41,
   "id": "69b85e0b-c88a-4d47-8547-b3e26ab9cfbe",
   "metadata": {},
   "outputs": [
    {
     "name": "stdout",
     "output_type": "stream",
     "text": [
      "-5.070328238537697e-16 3.432782754208944e-16\n"
     ]
    }
   ],
   "source": [
    "print(df[\"v\"].min(), df[\"v\"].max())"
   ]
  },
  {
   "cell_type": "code",
   "execution_count": 40,
   "id": "173c5026-0380-4059-86b4-67485d2214ff",
   "metadata": {},
   "outputs": [
    {
     "name": "stdout",
     "output_type": "stream",
     "text": [
      "0.0 8.0\n"
     ]
    }
   ],
   "source": [
    "print(df[\"p\"].min(), df[\"p\"].max())"
   ]
  },
  {
   "cell_type": "code",
   "execution_count": 42,
   "id": "27e4beff-213c-435c-9956-bac2844ed19a",
   "metadata": {},
   "outputs": [
    {
     "data": {
      "text/plain": [
       "array([0.02, 0.04, 0.06, 0.08, 0.1 , 0.12, 0.14, 0.16, 0.18, 0.2 , 0.22,\n",
       "       0.24, 0.26, 0.28, 0.3 , 0.32, 0.34, 0.36, 0.38, 0.4 , 0.42, 0.44,\n",
       "       0.46, 0.48, 0.5 , 0.52, 0.54, 0.56, 0.58, 0.6 , 0.62, 0.64, 0.66,\n",
       "       0.68, 0.7 , 0.72, 0.74, 0.76, 0.78, 0.8 , 0.82, 0.84, 0.86, 0.88,\n",
       "       0.9 , 0.92, 0.94, 0.96, 0.98, 1.  ])"
      ]
     },
     "execution_count": 42,
     "metadata": {},
     "output_type": "execute_result"
    }
   ],
   "source": [
    "df[\"t\"].unique()"
   ]
  },
  {
   "cell_type": "code",
   "execution_count": 45,
   "id": "de807883-1923-4846-a23c-6b15a1f7676b",
   "metadata": {},
   "outputs": [
    {
     "name": "stdout",
     "output_type": "stream",
     "text": [
      "✅ Exported merged data to 'fenics_data.csv'\n"
     ]
    }
   ],
   "source": [
    "# Create dataframe and export to CSV\n",
    "df.to_csv(r\"C:\\Users\\kunwa\\Documents\\Programming\\Julia\\FEniCS\\Navier_Stokes_Channel\\2D_navier_fenics_data.csv\", index=False)\n",
    "print(\"✅ Exported merged data to 'fenics_data.csv'\")"
   ]
  },
  {
   "cell_type": "code",
   "execution_count": null,
   "id": "3aa1bc35-7ed6-4248-ba7e-542152e6c084",
   "metadata": {},
   "outputs": [],
   "source": []
  }
 ],
 "metadata": {
  "kernelspec": {
   "display_name": "Python 3 (ipykernel)",
   "language": "python",
   "name": "python3"
  },
  "language_info": {
   "codemirror_mode": {
    "name": "ipython",
    "version": 3
   },
   "file_extension": ".py",
   "mimetype": "text/x-python",
   "name": "python",
   "nbconvert_exporter": "python",
   "pygments_lexer": "ipython3",
   "version": "3.10.18"
  }
 },
 "nbformat": 4,
 "nbformat_minor": 5
}
